{
 "cells": [
  {
   "cell_type": "markdown",
   "id": "b60a7893",
   "metadata": {},
   "source": [
    "In this context, We will explore some of the statistical methods commonly applied in data analytics.\n",
    "You do need to understand all the termilogies and code used. We will go deeper into \n",
    "the packages and codes.\n",
    "\n",
    "Python has a Library called the \"statistics\" which gives you access to all the Measure of central tendency \n",
    "and The following code blocks shows how to \n",
    "use these methods.\n"
   ]
  },
  {
   "cell_type": "code",
   "execution_count": 1,
   "id": "3fbc75f9",
   "metadata": {},
   "outputs": [],
   "source": [
    "# First, We Import statistics Library\n",
    "import statistics as st"
   ]
  },
  {
   "cell_type": "markdown",
   "id": "670569e5",
   "metadata": {},
   "source": [
    "Create Data for the analysis"
   ]
  },
  {
   "cell_type": "code",
   "execution_count": 2,
   "id": "a45fdeb0",
   "metadata": {},
   "outputs": [],
   "source": [
    "x = [1, 3, 3, 3, 5, 7, 7, 9, 11]\n",
    "k = ['red', 'green', 'blue', 'red']"
   ]
  },
  {
   "cell_type": "markdown",
   "id": "ec471d81",
   "metadata": {},
   "source": [
    "Find the Mode of the Data x and k. Mode is the most frequent data point. \n",
    "From data x, we can observe that 3 is the most frequent number"
   ]
  },
  {
   "cell_type": "code",
   "execution_count": 3,
   "id": "bda96b46",
   "metadata": {},
   "outputs": [
    {
     "name": "stdout",
     "output_type": "stream",
     "text": [
      "The mode of Data x =  3\n"
     ]
    }
   ],
   "source": [
    "mode_x = st.mode(x)\n",
    "print(\"The mode of Data x = \", mode_x)"
   ]
  },
  {
   "cell_type": "markdown",
   "id": "d3bc3cff",
   "metadata": {},
   "source": [
    "From data k, we can also observe that red is the most frequent data"
   ]
  },
  {
   "cell_type": "code",
   "execution_count": 4,
   "id": "93a18473",
   "metadata": {},
   "outputs": [
    {
     "name": "stdout",
     "output_type": "stream",
     "text": [
      "The mode of Data k =  red\n"
     ]
    }
   ],
   "source": [
    "mode_k = st.mode(k)\n",
    "print(\"The mode of Data k = \", mode_k)"
   ]
  },
  {
   "cell_type": "markdown",
   "id": "01299681",
   "metadata": {},
   "source": [
    "mode of data y = [1, 1, 3, -5, 7, -9, 11]"
   ]
  },
  {
   "cell_type": "code",
   "execution_count": null,
   "id": "2e2d6051",
   "metadata": {},
   "outputs": [],
   "source": [
    "y = [1, 1, 3, -5, 7, -9, 11]\n",
    "mode_y = st.mode(y)\n",
    "print(\"The mode of Data y = \", mode_y)\n",
    "\n"
   ]
  },
  {
   "cell_type": "markdown",
   "id": "698e8d06",
   "metadata": {},
   "source": [
    "In the same way, we can also find the median (middle value) of a given data as:"
   ]
  },
  {
   "cell_type": "code",
   "execution_count": 5,
   "id": "b18d84fc",
   "metadata": {},
   "outputs": [
    {
     "name": "stdout",
     "output_type": "stream",
     "text": [
      "The Median of data x =  7\n"
     ]
    }
   ],
   "source": [
    "x = [1, 3, 5, 7, 9, 11, 13]\n",
    "median_x = st.median(x)\n",
    "print(\"The Median of data x = \", median_x)"
   ]
  },
  {
   "cell_type": "markdown",
   "id": "99637493",
   "metadata": {},
   "source": [
    "use the code above to find the median of the data [1, 3, 5, 7, 9, 11, 20]?"
   ]
  },
  {
   "cell_type": "code",
   "execution_count": null,
   "id": "eb87bb17",
   "metadata": {},
   "outputs": [],
   "source": [
    "z = [1, 3, 5, 7, 9, 11, 20]\n",
    "median_z = st.median(z)\n",
    "print(\"The Median of data z = \", median_z)"
   ]
  },
  {
   "cell_type": "markdown",
   "id": "af344035",
   "metadata": {},
   "source": [
    "The mean of a data can also be calculated using the formula Mean = (Σx) / N. This can be acheived with the \n",
    "code below. To find mean of data x, we can use the code:"
   ]
  },
  {
   "cell_type": "code",
   "execution_count": 6,
   "id": "b31de090",
   "metadata": {},
   "outputs": [
    {
     "name": "stdout",
     "output_type": "stream",
     "text": [
      "The Mean of data x =  7\n"
     ]
    }
   ],
   "source": [
    "x = [1, 3, 5, 7, 9, 11, 13]\n",
    "mean_x = st.mean(x)\n",
    "print(\"The Mean of data x = \", mean_x)"
   ]
  },
  {
   "cell_type": "markdown",
   "id": "de6d50d5",
   "metadata": {},
   "source": [
    "find the mean of data k = [-11, 5.5, -3.4, 7.1, -9, 22]"
   ]
  },
  {
   "cell_type": "code",
   "execution_count": null,
   "id": "da91742d",
   "metadata": {},
   "outputs": [],
   "source": [
    "k = [-11, 5.5, -3.4, 7.1, -9, 22]\n",
    "mean_k = st.mean(k)\n",
    "print(\"The Mean of data k = \", mean_k)\n",
    "\n"
   ]
  },
  {
   "cell_type": "markdown",
   "id": "421aa790",
   "metadata": {},
   "source": [
    "We can find the range of the data x = [120, 150, 180, 200, 220] using the code:"
   ]
  },
  {
   "cell_type": "code",
   "execution_count": 7,
   "id": "fc4ff1e7",
   "metadata": {},
   "outputs": [
    {
     "name": "stdout",
     "output_type": "stream",
     "text": [
      "The Range of data x =  100\n"
     ]
    }
   ],
   "source": [
    "x =[120, 150, 180, 200, 220]\n",
    "range_x = max(x) - min(x)\n",
    "print(\"The Range of data x = \", range_x)"
   ]
  },
  {
   "cell_type": "markdown",
   "id": "0656ada5",
   "metadata": {},
   "source": [
    "The range of data y = [12, 10, 40, 13, 27, 55]"
   ]
  },
  {
   "cell_type": "code",
   "execution_count": null,
   "id": "53573d6d",
   "metadata": {},
   "outputs": [],
   "source": [
    "y = [12, 10, 40, 13, 27, 55]\n",
    "range_y = max(y) - min(y)\n",
    "print(\"The Range of data y = \", range_y)\n",
    "\n"
   ]
  },
  {
   "cell_type": "markdown",
   "id": "ae18b53d",
   "metadata": {},
   "source": [
    "To calculate the variance of a sample data, we used the formula Variance (s²) = Σ(Xᵢ - x̄)² / (N-1).\n",
    "We can calculate the variance of data x = [1, 3, 5, 7, 9, 11] with the code:"
   ]
  },
  {
   "cell_type": "code",
   "execution_count": 8,
   "id": "8633ce2a",
   "metadata": {},
   "outputs": [
    {
     "name": "stdout",
     "output_type": "stream",
     "text": [
      "The Variance of data x =  14\n"
     ]
    }
   ],
   "source": [
    "x = [1, 3, 5, 7, 9, 11]\n",
    "variance_x = st.variance(x)\n",
    "print(\"The Variance of data x = \", variance_x)"
   ]
  },
  {
   "cell_type": "markdown",
   "id": "7e3373dc",
   "metadata": {},
   "source": [
    "The code above to find the varience of your = [1, 30, 50, 100]"
   ]
  },
  {
   "cell_type": "code",
   "execution_count": null,
   "id": "d43a2940",
   "metadata": {},
   "outputs": [],
   "source": [
    "\n",
    "y = [1, 30, 50, 100]\n",
    "variance_y = st.variance(y)\n",
    "print(\"The Variance of data y = \", variance_y)\n"
   ]
  },
  {
   "cell_type": "markdown",
   "id": "ec3104a7",
   "metadata": {},
   "source": [
    "You can recall that to find the standard deviation of data, we find the square root of variance.\n",
    "We can find the standard deviation of data x = [1, 3, 5, 7, 9, 11] with the code :"
   ]
  },
  {
   "cell_type": "code",
   "execution_count": 9,
   "id": "9fb0a947",
   "metadata": {},
   "outputs": [
    {
     "name": "stdout",
     "output_type": "stream",
     "text": [
      "The Standard deviation of data x =  3.7416573867739413\n"
     ]
    }
   ],
   "source": [
    "x = [1, 3, 5, 7, 9, 11]\n",
    "stdev_x = st.stdev(x)\n",
    "print(\"The Standard deviation of data x = \", stdev_x)"
   ]
  },
  {
   "cell_type": "markdown",
   "id": "2b894443",
   "metadata": {},
   "source": [
    "Ex:The standard deviation of y = [2, 2.5, 1.25, 3.1, 1.75, 2.8]"
   ]
  },
  {
   "cell_type": "code",
   "execution_count": null,
   "id": "5056e424",
   "metadata": {},
   "outputs": [],
   "source": [
    "y = [2, 2.5, 1.25, 3.1, 1.75, 2.8]\n",
    "stdev_y = st.stdev(y)\n",
    "print(\"The Standard deviation of data y = \", stdev_y)\n",
    "\n"
   ]
  }
 ],
 "metadata": {
  "kernelspec": {
   "display_name": "Python [conda env:base] *",
   "language": "python",
   "name": "conda-base-py"
  },
  "language_info": {
   "codemirror_mode": {
    "name": "ipython",
    "version": 3
   },
   "file_extension": ".py",
   "mimetype": "text/x-python",
   "name": "python",
   "nbconvert_exporter": "python",
   "pygments_lexer": "ipython3",
   "version": "3.12.7"
  }
 },
 "nbformat": 4,
 "nbformat_minor": 5
}
