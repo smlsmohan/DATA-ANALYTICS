{
 "cells": [
  {
   "cell_type": "code",
   "execution_count": 7,
   "id": "51b0ec76-3763-4a1e-b43c-7f916a24ea27",
   "metadata": {},
   "outputs": [
    {
     "name": "stdout",
     "output_type": "stream",
     "text": [
      "Error: The file was not found.\n"
     ]
    }
   ],
   "source": [
    "import json\n",
    "\n",
    "def load_json_data(file_path):\n",
    "    \"\"\"\n",
    "    Function to load JSON data with exception handling.\n",
    "    \"\"\"\n",
    "    try:\n",
    "        with open(file_path, \"r\", encoding=\"utf-8\") as file:\n",
    "            data = json.load(file)\n",
    "        return data\n",
    "    except FileNotFoundError:\n",
    "        print(\"Error: The file was not found.\")\n",
    "    except json.JSONDecodeError:\n",
    "        print(\"Error: Failed to decode JSON file.\")\n",
    "    except Exception as e:\n",
    "        print(f\"An unexpected error occurred: {e}\")\n",
    "        return None\n",
    "\n",
    "# Load JSON data\n",
    "json_path = \"DublinAirport090220.json\"  # Update path if necessary\n",
    "weather_data = load_json_data(json_path)\n",
    "weather_data"
   ]
  },
  {
   "cell_type": "code",
   "execution_count": null,
   "id": "773d0a07-20d8-4ca4-b4b4-e366e46bf106",
   "metadata": {},
   "outputs": [],
   "source": []
  },
  {
   "cell_type": "code",
   "execution_count": 36,
   "id": "9b730bd6-7969-441b-b25c-ef2c25f5844e",
   "metadata": {},
   "outputs": [
    {
     "name": "stdout",
     "output_type": "stream",
     "text": [
      "An unexpected error occurred: 'str' object has no attribute 'read'\n"
     ]
    }
   ],
   "source": [
    "import json\n",
    "\n",
    "def import_json(file_path):\n",
    "    \"\"\"\n",
    "    Imports JSON data from a file with exception handling.\n",
    "    \n",
    "    :param file_path: Path to the JSON file.\n",
    "    :return: Parsed JSON data (dict or list) if successful, else None.\n",
    "    \"\"\"\n",
    "    try:\n",
    "        with open(file_path, 'r', encoding='utf-8') as file:\n",
    "            data = json.load(file_path)\n",
    "            return data\n",
    "    except FileNotFoundError:\n",
    "        print(f\"Error: The file '{file_path}' was not found.\")\n",
    "    except json.JSONDecodeError:\n",
    "        print(f\"Error: The file '{file_path}' is not a valid JSON file.\")\n",
    "    except Exception as e:\n",
    "        print(f\"An unexpected error occurred: {e}\")\n",
    "    \n",
    "    return None\n",
    "\n",
    "# Example usage:\n",
    "json_data = import_json(\"C:/Users/HP/OneDrive/Documents/DublinAirport090220.json\")\n",
    "if json_data is not None:\n",
    "    print(json_data)\n"
   ]
  },
  {
   "cell_type": "code",
   "execution_count": null,
   "id": "ac4e3015-b664-425b-b75a-d825c3aa85b9",
   "metadata": {},
   "outputs": [],
   "source": []
  },
  {
   "cell_type": "code",
   "execution_count": null,
   "id": "419db9cb-5026-4297-b024-38d1d7433db6",
   "metadata": {},
   "outputs": [],
   "source": []
  }
 ],
 "metadata": {
  "kernelspec": {
   "display_name": "Python [conda env:base] *",
   "language": "python",
   "name": "conda-base-py"
  },
  "language_info": {
   "codemirror_mode": {
    "name": "ipython",
    "version": 3
   },
   "file_extension": ".py",
   "mimetype": "text/x-python",
   "name": "python",
   "nbconvert_exporter": "python",
   "pygments_lexer": "ipython3",
   "version": "3.12.7"
  }
 },
 "nbformat": 4,
 "nbformat_minor": 5
}
